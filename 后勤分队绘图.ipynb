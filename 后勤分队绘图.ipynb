{
    "cells": [
        {
            "cell_type": "code",
            "execution_count": 2,
            "id": "c29f18d0",
            "metadata": {},
            "outputs": [],
            "source": [
                "import matplotlib.patheffects as pe\n",
                "import matplotlib.pyplot as plt\n",
                "import numpy as np\n",
                "import pandas as pd\n",
                "import scipy.interpolate\n",
                "from matplotlib.ticker import PercentFormatter"
            ]
        },
        {
            "cell_type": "code",
            "execution_count": 3,
            "id": "2ef68906",
            "metadata": {},
            "outputs": [],
            "source": [
                "plt.rcParams[\"font.sans-serif\"] = \"Source Han Sans SC\"\n",
                "plt.rcParams[\"figure.dpi\"] = 300\n",
                "plt.rcParams[\"savefig.bbox\"] = \"tight\""
            ]
        },
        {
            "cell_type": "code",
            "execution_count": 4,
            "id": "bc642529",
            "metadata": {},
            "outputs": [],
            "source": [
                "# 描边预设\n",
                "stroke_white = [pe.withStroke(linewidth=2.5, foreground=\"white\")]\n",
                "stroke_black = [pe.withStroke(linewidth=2.5, foreground=\"black\")]"
            ]
        },
        {
            "cell_type": "code",
            "execution_count": 5,
            "id": "2476bbe4",
            "metadata": {},
            "outputs": [],
            "source": [
                "df = pd.read_csv(\"后勤分队源石锭电表倒转成功概率.csv\", index_col=[\"厉钱数量\", \"初始源石锭数量\"])"
            ]
        },
        {
            "cell_type": "code",
            "execution_count": null,
            "id": "7b83aa1d",
            "metadata": {},
            "outputs": [],
            "source": [
                "厉钱数量范围 = range(5, 9+1)\n",
                "x_max = 1024\n",
                "\n",
                "fig, ax = plt.subplots(figsize=(10, 6))\n",
                "colors = [f\"C{i}\" for i in range(len(厉钱数量范围))]\n",
                "\n",
                "# 绘制参考线\n",
                "ref_lines = [0.25, 0.5, 0.75, 0.9]\n",
                "for y_ref in ref_lines:\n",
                "    ax.axhline(y_ref, color=\"gray\", linestyle=\"--\", path_effects=stroke_white, zorder=2)\n",
                "    ax.annotate(f\"{y_ref:.0%}\", (x_max, y_ref),\n",
                "                ha=\"right\", va=\"center\", xytext=(-5, 0), textcoords=\"offset points\",\n",
                "                color=\"gray\", fontweight=\"bold\", path_effects=stroke_white, zorder=40)\n",
                "\n",
                "for i, 厉钱数量 in enumerate(厉钱数量范围):\n",
                "    data = df.loc[厉钱数量]\n",
                "    x = data.index.values\n",
                "    y = data[\"成功概率\"].values\n",
                "\n",
                "    spline = scipy.interpolate.make_interp_spline(x, y)\n",
                "    x_new = np.arange(0, 1024+1, 1)\n",
                "    y_smooth = spline(x_new)\n",
                "    ax.plot(x_new, y_smooth,\n",
                "            label=f\"厉钱数量＝{厉钱数量}\",\n",
                "            color=colors[i], path_effects=stroke_white, zorder=20)\n",
                "\n",
                "    # 计算并标注所有交点\n",
                "    for y_ref in ref_lines:\n",
                "        idx = np.searchsorted(y_smooth, y_ref)\n",
                "        if idx == len(y_smooth):\n",
                "            continue\n",
                "        x_cross = x_new[idx]\n",
                "        ax.scatter(x_cross, y_ref, marker=\".\",\n",
                "                   s=10, color=colors[i], path_effects=stroke_white, zorder=30)\n",
                "        # 奇数在上，偶数在下\n",
                "        if 厉钱数量 % 2 == 1:\n",
                "            offset = (0, 2)\n",
                "            va = \"baseline\"\n",
                "        else:\n",
                "            offset = (0, -2)\n",
                "            va = \"top\"\n",
                "        ax.annotate(f\"{x_cross}\", (x_cross, y_ref),\n",
                "                    ha=\"right\", va=va, xytext=offset, textcoords=\"offset points\",\n",
                "                    color=colors[i], fontweight=\"bold\", path_effects=stroke_white, zorder=40)\n",
                "\n",
                "ax.set_title(\"后勤分队电表倒转成功概率\", fontweight=\"bold\")\n",
                "ax.set_xlabel(\"初始源石锭数量\", fontweight=\"bold\")\n",
                "ax.set_ylabel(\"成功概率\", fontweight=\"bold\")\n",
                "\n",
                "ax.minorticks_on()\n",
                "ax.grid(True, which=\"major\", linewidth=1.2)\n",
                "ax.grid(True, which=\"minor\", linewidth=0.6)\n",
                "ax.yaxis.set_major_formatter(PercentFormatter(1.0))\n",
                "\n",
                "ax.set_xlim(0, x_max)\n",
                "ax.set_ylim(bottom=0)\n",
                "\n",
                "ax.legend(loc=\"upper left\")\n",
                "\n",
                "fig.savefig(\"后勤分队源石锭电表倒转成功概率.png\")"
            ]
        }
    ],
    "metadata": {
        "kernelspec": {
            "display_name": "Python 3",
            "language": "python",
            "name": "python3"
        },
        "language_info": {
            "codemirror_mode": {
                "name": "ipython",
                "version": 3
            },
            "file_extension": ".py",
            "mimetype": "text/x-python",
            "name": "python",
            "nbconvert_exporter": "python",
            "pygments_lexer": "ipython3",
            "version": "3.13.2"
        }
    },
    "nbformat": 4,
    "nbformat_minor": 5
}
